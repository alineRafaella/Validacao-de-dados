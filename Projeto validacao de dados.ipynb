{
 "cells": [
  {
   "cell_type": "markdown",
   "metadata": {},
   "source": [
    "Projeto Validação de dados\n",
    "\n",
    "Objetivo Limpeza e tranformação dos dados"
   ]
  },
  {
   "cell_type": "code",
   "execution_count": 117,
   "metadata": {},
   "outputs": [],
   "source": [
    "# Importando bibliotecas para modelagem de dados\n",
    "import pandas as pd\n",
    "import numpy as np"
   ]
  },
  {
   "cell_type": "code",
   "execution_count": 118,
   "metadata": {},
   "outputs": [
    {
     "data": {
      "text/html": [
       "<div>\n",
       "<style scoped>\n",
       "    .dataframe tbody tr th:only-of-type {\n",
       "        vertical-align: middle;\n",
       "    }\n",
       "\n",
       "    .dataframe tbody tr th {\n",
       "        vertical-align: top;\n",
       "    }\n",
       "\n",
       "    .dataframe thead th {\n",
       "        text-align: right;\n",
       "    }\n",
       "</style>\n",
       "<table border=\"1\" class=\"dataframe\">\n",
       "  <thead>\n",
       "    <tr style=\"text-align: right;\">\n",
       "      <th></th>\n",
       "      <th>Id da venda</th>\n",
       "      <th>Data da Venda</th>\n",
       "      <th>Quantidade</th>\n",
       "      <th>Preço Unitário</th>\n",
       "      <th>Total de Venda</th>\n",
       "      <th>CPF</th>\n",
       "    </tr>\n",
       "  </thead>\n",
       "  <tbody>\n",
       "    <tr>\n",
       "      <th>0</th>\n",
       "      <td>1</td>\n",
       "      <td>2023-02-12 00:00:00</td>\n",
       "      <td>5.0</td>\n",
       "      <td>20</td>\n",
       "      <td>100</td>\n",
       "      <td>572.833.820-89</td>\n",
       "    </tr>\n",
       "    <tr>\n",
       "      <th>1</th>\n",
       "      <td>2</td>\n",
       "      <td>32/13/2023</td>\n",
       "      <td>3.0</td>\n",
       "      <td>15</td>\n",
       "      <td>45</td>\n",
       "      <td>502.741.840-01</td>\n",
       "    </tr>\n",
       "    <tr>\n",
       "      <th>2</th>\n",
       "      <td>3</td>\n",
       "      <td>2024-09-05 00:00:00</td>\n",
       "      <td>2.0</td>\n",
       "      <td>25</td>\n",
       "      <td>50</td>\n",
       "      <td>213.124.600-59</td>\n",
       "    </tr>\n",
       "    <tr>\n",
       "      <th>3</th>\n",
       "      <td>4</td>\n",
       "      <td>2023-05-20 00:00:00</td>\n",
       "      <td>7.0</td>\n",
       "      <td>-10</td>\n",
       "      <td>-70</td>\n",
       "      <td>147.139.910-90</td>\n",
       "    </tr>\n",
       "    <tr>\n",
       "      <th>4</th>\n",
       "      <td>5</td>\n",
       "      <td>2023-04-15 00:00:00</td>\n",
       "      <td>10.0</td>\n",
       "      <td>30</td>\n",
       "      <td>300</td>\n",
       "      <td>554.270.590-16</td>\n",
       "    </tr>\n",
       "  </tbody>\n",
       "</table>\n",
       "</div>"
      ],
      "text/plain": [
       "   Id da venda        Data da Venda  Quantidade  Preço Unitário  \\\n",
       "0            1  2023-02-12 00:00:00         5.0              20   \n",
       "1            2           32/13/2023         3.0              15   \n",
       "2            3  2024-09-05 00:00:00         2.0              25   \n",
       "3            4  2023-05-20 00:00:00         7.0             -10   \n",
       "4            5  2023-04-15 00:00:00        10.0              30   \n",
       "\n",
       "   Total de Venda             CPF  \n",
       "0             100  572.833.820-89  \n",
       "1              45  502.741.840-01  \n",
       "2              50  213.124.600-59  \n",
       "3             -70  147.139.910-90  \n",
       "4             300  554.270.590-16  "
      ]
     },
     "execution_count": 118,
     "metadata": {},
     "output_type": "execute_result"
    }
   ],
   "source": [
    "# Abrindo base de dados \n",
    "df = pd.read_excel(r'C:\\\\Users\\\\Usuário\\\\Downloads\\\\vendas X.xlsx')\n",
    "df.head() # Exibir 5 linhas "
   ]
  },
  {
   "cell_type": "code",
   "execution_count": 119,
   "metadata": {},
   "outputs": [
    {
     "data": {
      "text/plain": [
       "(20, 6)"
      ]
     },
     "execution_count": 119,
     "metadata": {},
     "output_type": "execute_result"
    }
   ],
   "source": [
    "# Quantidade de linhas e colunas\n",
    "df.shape"
   ]
  },
  {
   "cell_type": "code",
   "execution_count": 120,
   "metadata": {},
   "outputs": [
    {
     "data": {
      "text/plain": [
       "Id da venda       20\n",
       "Data da Venda     20\n",
       "Quantidade        18\n",
       "Preço Unitário    20\n",
       "Total de Venda    20\n",
       "CPF               19\n",
       "dtype: int64"
      ]
     },
     "execution_count": 120,
     "metadata": {},
     "output_type": "execute_result"
    }
   ],
   "source": [
    "# Verificando quantidade de duplicatas\n",
    "df.drop_duplicates().count()"
   ]
  },
  {
   "cell_type": "code",
   "execution_count": 121,
   "metadata": {},
   "outputs": [],
   "source": [
    "# Salvando a base sem duplicatas\n",
    "df.drop_duplicates(inplace=True)"
   ]
  },
  {
   "cell_type": "code",
   "execution_count": 122,
   "metadata": {},
   "outputs": [
    {
     "data": {
      "text/plain": [
       "Id da venda       0\n",
       "Data da Venda     0\n",
       "Quantidade        2\n",
       "Preço Unitário    0\n",
       "Total de Venda    0\n",
       "CPF               1\n",
       "dtype: int64"
      ]
     },
     "execution_count": 122,
     "metadata": {},
     "output_type": "execute_result"
    }
   ],
   "source": [
    "# Verificando dados faltantes\n",
    "df.isnull().sum()"
   ]
  },
  {
   "cell_type": "code",
   "execution_count": 123,
   "metadata": {},
   "outputs": [],
   "source": [
    "# Substituir valores faltantes coluna 'CPF' preencher com '0'\n",
    "df['CPF'] = df['CPF'].fillna(0)"
   ]
  },
  {
   "cell_type": "code",
   "execution_count": 124,
   "metadata": {},
   "outputs": [
    {
     "name": "stdout",
     "output_type": "stream",
     "text": [
      "               cpf  frequência\n",
      "0   572.833.820-89           2\n",
      "1        587272390           1\n",
      "2   565.394.420-33           1\n",
      "3   171.504.970-55           1\n",
      "4   709.972.620-01           1\n",
      "5   298.690.610-95           1\n",
      "6                0           1\n",
      "7   444.953.680-01           1\n",
      "8   075.400.780-49           1\n",
      "9        733204400           1\n",
      "10  502.741.840-01           1\n",
      "11  776.823.690-43           1\n",
      "12  746.388.180-64           1\n",
      "13  799.857.930-72           1\n",
      "14  118.658.030-57           1\n",
      "15  554.270.590-16           1\n",
      "16  147.139.910-90           1\n",
      "17  213.124.600-59           1\n",
      "18     54180364085           1\n"
     ]
    }
   ],
   "source": [
    "# Verificar a frequência de valores únicos\n",
    "valores_frequencia = df['CPF'].value_counts().reset_index()\n",
    "valores_frequencia.columns = ['cpf', 'frequência']\n",
    "print(valores_frequencia)\n"
   ]
  },
  {
   "cell_type": "code",
   "execution_count": 125,
   "metadata": {},
   "outputs": [],
   "source": [
    "# Remover frequência duplicada coluna 'CPF'\n",
    "df.drop_duplicates(subset=['CPF'], keep='first', inplace=True)\n"
   ]
  },
  {
   "cell_type": "code",
   "execution_count": 126,
   "metadata": {},
   "outputs": [
    {
     "name": "stdout",
     "output_type": "stream",
     "text": [
      "Dados que não seguem o padrão esperado:\n",
      "            CPF\n",
      "9     733204400\n",
      "10    587272390\n",
      "13            0\n",
      "19  54180364085\n"
     ]
    }
   ],
   "source": [
    "# Padrão esperado para CPF: XXX.XXX.XXX-XX\n",
    "padrao_cpf = r'^\\d{3}\\.\\d{3}\\.\\d{3}-\\d{2}$'\n",
    "\n",
    "# Verificar quais CPFs não seguem o padrão\n",
    "df['Nao_Padrao'] = df['CPF'].str.match(padrao_cpf, na=False)\n",
    "\n",
    "# Filtrar os dados que NÃO estão no padrão\n",
    "dados_fora_do_padrao = df[~df['Nao_Padrao']]\n",
    "print(f\"Dados que não seguem o padrão esperado:\\n{dados_fora_do_padrao[['CPF']]}\")"
   ]
  },
  {
   "cell_type": "code",
   "execution_count": 127,
   "metadata": {},
   "outputs": [
    {
     "name": "stdout",
     "output_type": "stream",
     "text": [
      "          CPF     Dígitos_Faltantes\n",
      "9   733204400   2 dígitos faltantes\n",
      "10  587272390   2 dígitos faltantes\n",
      "13          0  10 dígitos faltantes\n"
     ]
    }
   ],
   "source": [
    "# Função para calcular os dígitos faltantes\n",
    "def calcular_digitos_faltantes(cpf):\n",
    "    cpf_str = str(cpf) # Converte o CPF para string\n",
    "    num_digitos = len(cpf_str) # Contar quantidade de dígito\n",
    "    \n",
    "    if num_digitos < 11:  # Verifica se faltam dígitos\n",
    "        digitos_faltantes = 11 - num_digitos  # Quantidade de dígitos faltantes\n",
    "        return f\"{digitos_faltantes} dígitos faltantes\"\n",
    "    else:\n",
    "        return \"CPF completo\"\n",
    "\n",
    "# Aplicar a função para calcular os dígitos faltantes\n",
    "df['Dígitos_Faltantes'] = df['CPF'].apply(calcular_digitos_faltantes)\n",
    "\n",
    "# Filtrar CPFs que possuem dígitos faltantes\n",
    "filtros = df[df['Dígitos_Faltantes'] != \"CPF completo\"]\n",
    "\n",
    "# Mostrar o resultado\n",
    "print(filtros[['CPF', 'Dígitos_Faltantes']])"
   ]
  },
  {
   "cell_type": "code",
   "execution_count": 128,
   "metadata": {},
   "outputs": [
    {
     "name": "stdout",
     "output_type": "stream",
     "text": [
      "     soma\n",
      "9   171.0\n",
      "10  283.0\n"
     ]
    }
   ],
   "source": [
    "# Função para verificar se o CPF tem 9 dígitos e calcular a soma do dígito faltante\n",
    "def calcular_peso_cpf(cpf):\n",
    "    cpf_str = str(cpf)  # Converte o CPF para string\n",
    "    \n",
    "    if len(cpf_str) == 9:  # Verifica se o CPF tem exatamente 9 dígitos\n",
    "        pesos = [10, 9, 8, 7, 6, 5, 4, 3, 2] # Pesos para soma\n",
    "        soma = sum(int(cpf_str[i]) * pesos[i] for i in range(9)) # Loop para interação da soma\n",
    "        return soma\n",
    "    else:\n",
    "        return None  # Retorna None se o CPF não tiver 9 dígitos\n",
    "\n",
    "# Criar a coluna 'soma'\n",
    "df['soma'] = df['CPF'].apply(calcular_peso_cpf)\n",
    "\n",
    "# Filtrar apenas os CPFs não padrão, coluna soma\n",
    "nao_padrao = df[df['soma'].notnull()]\n",
    "\n",
    "# Mostrar apenas os CPFs não padrão com a soma\n",
    "print(nao_padrao[['soma']])\n"
   ]
  },
  {
   "cell_type": "code",
   "execution_count": 129,
   "metadata": {},
   "outputs": [
    {
     "name": "stdout",
     "output_type": "stream",
     "text": [
      "    Resto  Digito\n",
      "9     6.0     5.0\n",
      "10    8.0     3.0\n"
     ]
    }
   ],
   "source": [
    "# Função para calcular o resto\n",
    "def calcular_digito(resto):\n",
    "    if resto < 2:\n",
    "        return 0\n",
    "    else:\n",
    "        return 11 - resto\n",
    "\n",
    "# Calcular o resto da divisão por 11\n",
    "df['Resto'] = df['soma'] % 11\n",
    "\n",
    "# Criar coluna para armazenar o digito\n",
    "df['Digito'] = df['Resto'].apply(calcular_digito)\n",
    "\n",
    "# Filtrar apenas os digitos não nulos\n",
    "digito = df[df['Digito'].notnull()]\n",
    "\n",
    "# Mostrar o resultado\n",
    "print(digito[['Resto', 'Digito']])"
   ]
  },
  {
   "cell_type": "code",
   "execution_count": 130,
   "metadata": {},
   "outputs": [
    {
     "name": "stdout",
     "output_type": "stream",
     "text": [
      "          CPF  add_digito\n",
      "9   733204400  7332044005\n",
      "10  587272390  5872723903\n"
     ]
    }
   ],
   "source": [
    "# Certificar-se de que os valores de 'Digito' não são NaN antes de concatenar\n",
    "df['Digito'] = df['Digito'].fillna(0).astype(int)  # Substitui NaN por 0 e converte para inteiro\n",
    "\n",
    "# Concatenar o CPF e o dígito como string\n",
    "df['add_digito'] = df['CPF'].astype(str) + df['Digito'].astype(str)\n",
    "\n",
    "# Filtrar apenas coluna 'Digito' diferente de  0\n",
    "completando = df[df['Digito'] != 0]\n",
    "\n",
    "# Mostrar o resultado\n",
    "print(completando[['CPF','add_digito']])"
   ]
  },
  {
   "cell_type": "code",
   "execution_count": 131,
   "metadata": {},
   "outputs": [
    {
     "name": "stdout",
     "output_type": "stream",
     "text": [
      "    add_digito    Dígitos_Faltantes\n",
      "9   7332044005  1 dígitos faltantes\n",
      "10  5872723903  1 dígitos faltantes\n",
      "13          00  9 dígitos faltantes\n"
     ]
    }
   ],
   "source": [
    "# Certificando que a correção dos digitos anteriores e prosseguindo\n",
    "# Função para calcular os dígitos faltantes\n",
    "def calcular_digitos_faltantes(cpf):\n",
    "    cpf_str = str(cpf) # Converte o CPF para string\n",
    "    num_digitos = len(cpf_str) # Contar quantidade de dígito\n",
    "    \n",
    "    if num_digitos < 11:  # Verifica se faltam dígitos\n",
    "        digitos_faltantes = 11 - num_digitos  # Quantidade de dígitos faltantes\n",
    "        return f\"{digitos_faltantes} dígitos faltantes\"\n",
    "    else:\n",
    "        return \"CPF completo\"\n",
    "\n",
    "# Criar coluna e aplicar a função para calcular os dígitos faltantes\n",
    "df['Dígitos_Faltantes'] = df['add_digito'].apply(calcular_digitos_faltantes)\n",
    "\n",
    "\n",
    "# Filtrar CPFs que possuem dígitos faltantes\n",
    "filtros = df[df['Dígitos_Faltantes'] != \"CPF completo\"]\n",
    "\n",
    "# Mostrar o resultado\n",
    "print(filtros[['add_digito', 'Dígitos_Faltantes']])\n"
   ]
  },
  {
   "cell_type": "code",
   "execution_count": 132,
   "metadata": {},
   "outputs": [
    {
     "name": "stdout",
     "output_type": "stream",
     "text": [
      "    soma2\n",
      "9   204.0\n",
      "10  332.0\n"
     ]
    }
   ],
   "source": [
    "# Função para verificar se o CPF tem 10 dígitos e cálcular a soma do dígito faltante\n",
    "def calcular_peso_cpf(cpf):\n",
    "    cpf_str = str(cpf)  # Converte o CPF para string\n",
    "    \n",
    "    if len(cpf_str) == 10:  # Verifica se o CPF tem exatamente 10 dígitos\n",
    "        pesos = [11, 10, 9, 8, 7, 6, 5, 4, 3, 2] # pesos para soma\n",
    "        soma = sum(int(cpf_str[i]) * pesos[i] for i in range(10)) # loop para interação da soma\n",
    "        return soma\n",
    "    else:\n",
    "        return None  # Retorna None se o CPF não tiver 10 dígitos\n",
    "\n",
    "# Criar a coluna 'soma2' para identificar CPFs com 10 dígitos\n",
    "df['soma2'] = df['add_digito'].apply(calcular_peso_cpf)\n",
    "\n",
    "# Filtrar apenas os CPFs não padrão coluna 'soma2'\n",
    "nao_padrao = df[df['soma2'].notnull()]\n",
    "\n",
    "# Mostrar apenas os CPFs não padrão e a soma2\n",
    "print(nao_padrao[['soma2']])\n"
   ]
  },
  {
   "cell_type": "code",
   "execution_count": 133,
   "metadata": {},
   "outputs": [
    {
     "name": "stdout",
     "output_type": "stream",
     "text": [
      "    Resto  Digito\n",
      "9     6.0     5.0\n",
      "10    2.0     9.0\n"
     ]
    }
   ],
   "source": [
    "# Função para calcular o resto\n",
    "def calcular_digito(resto):\n",
    "    if resto < 2:\n",
    "        return 0\n",
    "    else:\n",
    "        return 11 - resto\n",
    "\n",
    "# Calcular o resto da divisão por 11\n",
    "df['Resto'] = df['soma2'] % 11\n",
    "\n",
    "# Criar coluna para armazenar o digito\n",
    "df['Digito'] = df['Resto'].apply(calcular_digito)\n",
    "\n",
    "# Filtrar apenas coluna 'Digito' não nulos\n",
    "resto = df[df['Digito'].notnull()]\n",
    "\n",
    "# Mostrar o resultado\n",
    "print(resto[['Resto', 'Digito']])\n"
   ]
  },
  {
   "cell_type": "code",
   "execution_count": 134,
   "metadata": {},
   "outputs": [
    {
     "name": "stdout",
     "output_type": "stream",
     "text": [
      "    add_digito  add_digito2\n",
      "9   7332044005  73320440055\n",
      "10  5872723903  58727239039\n"
     ]
    }
   ],
   "source": [
    "# Certificar-se de que os valores de 'Digito' não são NaN antes de concatenar\n",
    "df['Digito'] = df['Digito'].fillna(0).astype(int)  # Substitui NaN por 0 e converte para inteiro\n",
    "\n",
    "# Concatenar o CPF e o dígito como string\n",
    "df['add_digito2'] = df['add_digito'].astype(str) + df['Digito'].astype(str)\n",
    "\n",
    "# Filtrar apenas coluna 'Digito' diferentes de 0\n",
    "completando = df[df['Digito'] != 0]\n",
    "\n",
    "# Mostrar o resultado\n",
    "print(completando[['add_digito','add_digito2']])"
   ]
  },
  {
   "cell_type": "code",
   "execution_count": 137,
   "metadata": {},
   "outputs": [
    {
     "name": "stdout",
     "output_type": "stream",
     "text": [
      "               CPF       add_digito2\n",
      "0   572.833.820-89  572.833.820-8900\n",
      "1   502.741.840-01  502.741.840-0100\n",
      "2   213.124.600-59  213.124.600-5900\n",
      "3   147.139.910-90  147.139.910-9000\n",
      "4   554.270.590-16  554.270.590-1600\n",
      "5   118.658.030-57  118.658.030-5700\n",
      "6   799.857.930-72  799.857.930-7200\n",
      "7   746.388.180-64  746.388.180-6400\n",
      "8   776.823.690-43  776.823.690-4300\n",
      "9        733204400       73320440055\n",
      "10       587272390       58727239039\n",
      "11  075.400.780-49  075.400.780-4900\n",
      "12  444.953.680-01  444.953.680-0100\n",
      "13               0               000\n",
      "14  298.690.610-95  298.690.610-9500\n",
      "15  709.972.620-01  709.972.620-0100\n",
      "16  171.504.970-55  171.504.970-5500\n",
      "18  565.394.420-33  565.394.420-3300\n",
      "19     54180364085     5418036408500\n"
     ]
    }
   ],
   "source": [
    "# Verificar com ficou a correção dos dígitos faltantes\n",
    "# Cria uma tabela comparativa com valores originais e modificados lado a lado\n",
    "tabela_comparativa = df[['CPF', 'add_digito2']][df['CPF'] != df['add_digito2']]\n",
    "print(tabela_comparativa)\n"
   ]
  },
  {
   "cell_type": "code",
   "execution_count": 140,
   "metadata": {},
   "outputs": [
    {
     "name": "stdout",
     "output_type": "stream",
     "text": [
      "        add_digito2   CPF_Formatado\n",
      "0  572.833.820-8900  572.833.820-89\n",
      "1  502.741.840-0100  502.741.840-01\n",
      "2  213.124.600-5900  213.124.600-59\n",
      "3  147.139.910-9000  147.139.910-90\n",
      "4  554.270.590-1600  554.270.590-16\n",
      "5  118.658.030-5700  118.658.030-57\n",
      "6  799.857.930-7200  799.857.930-72\n",
      "7  746.388.180-6400  746.388.180-64\n",
      "8  776.823.690-4300  776.823.690-43\n",
      "9       73320440055  733.204.400-55\n"
     ]
    }
   ],
   "source": [
    "# Função para formatar o CPF com pontos e traço, removendo os dois últimos zeros\n",
    "def formatar_cpf(cpf):\n",
    "    cpf_str = str(cpf)  # Converte para string\n",
    "    \n",
    "    # Remove os dois últimos zeros, se houver\n",
    "    if cpf_str.endswith('00'):\n",
    "        cpf_str = cpf_str[:-2]  # Remove os dois últimos caracteres\n",
    "    \n",
    "    # Verifica se o CPF tem exatamente 11 dígitos após a remoção\n",
    "    if len(cpf_str) == 11:\n",
    "        return f\"{cpf_str[:3]}.{cpf_str[3:6]}.{cpf_str[6:9]}-{cpf_str[9:]}\"\n",
    "    else:\n",
    "        # Retorna o CPF original se tiver mais ou menos de 11 dígitos\n",
    "        return cpf_str\n",
    "\n",
    "# Criar a coluna 'CPF_Formatado' com o CPF ajustado\n",
    "df['CPF_Formatado'] = df['add_digito2'].apply(formatar_cpf)\n",
    "\n",
    "# Mostrar o resultado\n",
    "print(df[['add_digito2', 'CPF_Formatado']].head(10))\n"
   ]
  },
  {
   "cell_type": "code",
   "execution_count": 141,
   "metadata": {},
   "outputs": [
    {
     "data": {
      "text/plain": [
       "Index(['Id da venda', 'Data da Venda', 'Quantidade', 'Preço Unitário',\n",
       "       'Total de Venda', 'CPF', 'Nao_Padrao', 'Dígitos_Faltantes', 'soma',\n",
       "       'Resto', 'Digito', 'add_digito', 'soma2', 'add_digito2',\n",
       "       'CPF_Formatado'],\n",
       "      dtype='object')"
      ]
     },
     "execution_count": 141,
     "metadata": {},
     "output_type": "execute_result"
    }
   ],
   "source": [
    "df.columns"
   ]
  },
  {
   "cell_type": "code",
   "execution_count": 142,
   "metadata": {},
   "outputs": [],
   "source": [
    "# Excluindo colunas\n",
    "df.drop(columns = ['CPF', 'Nao_Padrao', 'Dígitos_Faltantes', 'soma',\n",
    "       'Resto', 'Digito', 'add_digito', 'soma2', 'add_digito2'], inplace= True)"
   ]
  },
  {
   "cell_type": "code",
   "execution_count": 143,
   "metadata": {},
   "outputs": [],
   "source": [
    "# Renomenado coluna específica\n",
    "df.rename(columns = {'CPF_Formatado':'CPF', 'Id da venda':'ID da Venda'}, inplace = True)"
   ]
  },
  {
   "cell_type": "code",
   "execution_count": 145,
   "metadata": {},
   "outputs": [
    {
     "data": {
      "text/plain": [
       "array([ 5.,  3.,  2.,  7., 10., nan,  4.,  6.,  8.,  9.])"
      ]
     },
     "execution_count": 145,
     "metadata": {},
     "output_type": "execute_result"
    }
   ],
   "source": [
    "# Verificando valores únicos\n",
    "df['Quantidade'].unique()"
   ]
  },
  {
   "cell_type": "code",
   "execution_count": 146,
   "metadata": {},
   "outputs": [],
   "source": [
    "# Substituir valores nan\n",
    "df['Quantidade'] = df['Quantidade'].fillna(0)"
   ]
  },
  {
   "cell_type": "code",
   "execution_count": 147,
   "metadata": {},
   "outputs": [
    {
     "name": "stdout",
     "output_type": "stream",
     "text": [
      "Empty DataFrame\n",
      "Columns: [ID da Venda, Data da Venda, Quantidade, Preço Unitário, Total de Venda, CPF]\n",
      "Index: []\n"
     ]
    }
   ],
   "source": [
    "# Identificar valores discrepântes refente a Quantidade\n",
    "media = df['Quantidade'].mean() # cálculo da média\n",
    "desvio_padrao = df['Quantidade'].std() # cálculo do desvio\n",
    "\n",
    "limites_superior = media + 3 * desvio_padrao\n",
    "limites_inferior = media - 3 * desvio_padrao\n",
    "\n",
    "# Filtrar os limites superior e inferior\n",
    "outliers = df[(df['Quantidade'] > limites_superior) | (df['Quantidade'] < limites_inferior)]\n",
    "print(outliers)\n"
   ]
  },
  {
   "cell_type": "code",
   "execution_count": 148,
   "metadata": {},
   "outputs": [
    {
     "data": {
      "text/plain": [
       "count    19.000000\n",
       "mean      4.631579\n",
       "std       2.947891\n",
       "min       0.000000\n",
       "25%       2.500000\n",
       "50%       4.000000\n",
       "75%       7.000000\n",
       "max      10.000000\n",
       "Name: Quantidade, dtype: float64"
      ]
     },
     "execution_count": 148,
     "metadata": {},
     "output_type": "execute_result"
    }
   ],
   "source": [
    "# Exibir estatísticas descritivas sobre a coluna 'Quantidade'\n",
    "df['Quantidade'].describe()"
   ]
  },
  {
   "cell_type": "code",
   "execution_count": 149,
   "metadata": {},
   "outputs": [
    {
     "data": {
      "image/png": "[encoded data removed]",
      "text/plain": [
       "<Figure size 640x480 with 1 Axes>"
      ]
     },
     "metadata": {},
     "output_type": "display_data"
    }
   ],
   "source": [
    "# Importando bibliotecas para visualização de gráfico\n",
    "import matplotlib.pyplot as plt\n",
    "import seaborn as sns\n",
    "\n",
    "# Gráfico de caixa para detectar outliers(Discrepâncias) \n",
    "sns.boxplot(x=df['Quantidade'])\n",
    "plt.title('Distribuição da \"Quantidade\"')\n",
    "plt.show()"
   ]
  },
  {
   "cell_type": "code",
   "execution_count": 150,
   "metadata": {},
   "outputs": [
    {
     "data": {
      "text/plain": [
       "array([ 20,  15,  25, -10,  30,  18, 500,  10,   0,  22, -15,  28,   8,\n",
       "        21,  23,  12,  31], dtype=int64)"
      ]
     },
     "execution_count": 150,
     "metadata": {},
     "output_type": "execute_result"
    }
   ],
   "source": [
    "# Verificando valores únicos coluna 'Preço Unitário'\n",
    "df['Preço Unitário'].unique()"
   ]
  },
  {
   "cell_type": "code",
   "execution_count": 156,
   "metadata": {},
   "outputs": [
    {
     "data": {
      "text/plain": [
       "array([ 20,  15,  25,  30,  18, 500,  10,  22,  28,   8,  21,  23,  12,\n",
       "        31], dtype=int64)"
      ]
     },
     "execution_count": 156,
     "metadata": {},
     "output_type": "execute_result"
    }
   ],
   "source": [
    "# Remover linhas onde 'Preço Unitário' é negativo ou igual a zero\n",
    "df = df[df['Preço Unitário'] > 0]\n",
    "\n",
    "# Mostrar o resultado\n",
    "df['Preço Unitário'].unique()"
   ]
  },
  {
   "cell_type": "code",
   "execution_count": 159,
   "metadata": {},
   "outputs": [
    {
     "data": {
      "text/html": [
       "<div>\n",
       "<style scoped>\n",
       "    .dataframe tbody tr th:only-of-type {\n",
       "        vertical-align: middle;\n",
       "    }\n",
       "\n",
       "    .dataframe tbody tr th {\n",
       "        vertical-align: top;\n",
       "    }\n",
       "\n",
       "    .dataframe thead th {\n",
       "        text-align: right;\n",
       "    }\n",
       "</style>\n",
       "<table border=\"1\" class=\"dataframe\">\n",
       "  <thead>\n",
       "    <tr style=\"text-align: right;\">\n",
       "      <th></th>\n",
       "      <th>ID da Venda</th>\n",
       "      <th>Data da Venda</th>\n",
       "      <th>Quantidade</th>\n",
       "      <th>Preço Unitário</th>\n",
       "      <th>Total de Venda</th>\n",
       "      <th>CPF</th>\n",
       "    </tr>\n",
       "  </thead>\n",
       "  <tbody>\n",
       "    <tr>\n",
       "      <th>6</th>\n",
       "      <td>7</td>\n",
       "      <td>2023-11-25 00:00:00</td>\n",
       "      <td>4.0</td>\n",
       "      <td>500</td>\n",
       "      <td>2000</td>\n",
       "      <td>799.857.930-72</td>\n",
       "    </tr>\n",
       "  </tbody>\n",
       "</table>\n",
       "</div>"
      ],
      "text/plain": [
       "   ID da Venda        Data da Venda  Quantidade  Preço Unitário  \\\n",
       "6            7  2023-11-25 00:00:00         4.0             500   \n",
       "\n",
       "   Total de Venda             CPF  \n",
       "6            2000  799.857.930-72  "
      ]
     },
     "execution_count": 159,
     "metadata": {},
     "output_type": "execute_result"
    }
   ],
   "source": [
    "# Identificar valores discrepântes refente a Preço Unitário\n",
    "media = df['Preço Unitário'].mean()\n",
    "desvio_padrao = df['Preço Unitário'].std()\n",
    "\n",
    "limites_superior = media + 3 * desvio_padrao\n",
    "limites_inferior = media - 3 * desvio_padrao\n",
    "\n",
    "outliers = df[(df['Preço Unitário'] > limites_superior) | (df['Preço Unitário'] < limites_inferior)]\n",
    "outliers"
   ]
  },
  {
   "cell_type": "code",
   "execution_count": 160,
   "metadata": {},
   "outputs": [
    {
     "data": {
      "text/plain": [
       "count     16.00000\n",
       "mean      50.50000\n",
       "std      120.08386\n",
       "min        8.00000\n",
       "25%       15.00000\n",
       "50%       21.50000\n",
       "75%       28.50000\n",
       "max      500.00000\n",
       "Name: Preço Unitário, dtype: float64"
      ]
     },
     "execution_count": 160,
     "metadata": {},
     "output_type": "execute_result"
    }
   ],
   "source": [
    "# Exibir estatísticas descritivas\n",
    "df['Preço Unitário'].describe()"
   ]
  },
  {
   "cell_type": "code",
   "execution_count": 161,
   "metadata": {},
   "outputs": [
    {
     "data": {
      "image/png": "[encoded data removed]",
      "text/plain": [
       "<Figure size 640x480 with 1 Axes>"
      ]
     },
     "metadata": {},
     "output_type": "display_data"
    }
   ],
   "source": [
    "# Gráfico de caixa para detectar outliers(Discrepâncias)\n",
    "sns.boxplot(x=df['Preço Unitário'])\n",
    "plt.title('Distribuição do \"Preço Unitário\"')\n",
    "plt.show()\n"
   ]
  },
  {
   "cell_type": "code",
   "execution_count": 162,
   "metadata": {},
   "outputs": [
    {
     "data": {
      "text/html": [
       "<div>\n",
       "<style scoped>\n",
       "    .dataframe tbody tr th:only-of-type {\n",
       "        vertical-align: middle;\n",
       "    }\n",
       "\n",
       "    .dataframe tbody tr th {\n",
       "        vertical-align: top;\n",
       "    }\n",
       "\n",
       "    .dataframe thead th {\n",
       "        text-align: right;\n",
       "    }\n",
       "</style>\n",
       "<table border=\"1\" class=\"dataframe\">\n",
       "  <thead>\n",
       "    <tr style=\"text-align: right;\">\n",
       "      <th></th>\n",
       "      <th>Quantidade</th>\n",
       "      <th>Preço Unitário</th>\n",
       "      <th>Total de Venda</th>\n",
       "      <th>Total_Calculado</th>\n",
       "    </tr>\n",
       "  </thead>\n",
       "  <tbody>\n",
       "    <tr>\n",
       "      <th>5</th>\n",
       "      <td>0.0</td>\n",
       "      <td>18</td>\n",
       "      <td>90</td>\n",
       "      <td>0.0</td>\n",
       "    </tr>\n",
       "    <tr>\n",
       "      <th>14</th>\n",
       "      <td>0.0</td>\n",
       "      <td>21</td>\n",
       "      <td>105</td>\n",
       "      <td>0.0</td>\n",
       "    </tr>\n",
       "  </tbody>\n",
       "</table>\n",
       "</div>"
      ],
      "text/plain": [
       "    Quantidade  Preço Unitário  Total de Venda  Total_Calculado\n",
       "5          0.0              18              90              0.0\n",
       "14         0.0              21             105              0.0"
      ]
     },
     "execution_count": 162,
     "metadata": {},
     "output_type": "execute_result"
    }
   ],
   "source": [
    "# Verificar se o cálculo do 'Total de Venda' está correto\n",
    "df['Total_Calculado'] = df['Quantidade'] * df['Preço Unitário']\n",
    "\n",
    "# Identificar onde o 'Total de Venda' está incorreto\n",
    "inconsistencias = df[df['Total de Venda'] != df['Total_Calculado']]\n",
    "\n",
    "# Exibir inconsistências\n",
    "inconsistencias[['Quantidade', 'Preço Unitário',\n",
    "       'Total de Venda','Total_Calculado']]"
   ]
  },
  {
   "cell_type": "code",
   "execution_count": 163,
   "metadata": {},
   "outputs": [
    {
     "data": {
      "text/plain": [
       "Index(['ID da Venda', 'Data da Venda', 'Quantidade', 'Preço Unitário',\n",
       "       'Total de Venda', 'CPF', 'Total_Calculado'],\n",
       "      dtype='object')"
      ]
     },
     "execution_count": 163,
     "metadata": {},
     "output_type": "execute_result"
    }
   ],
   "source": [
    "# Ver todas as colunas\n",
    "df.columns"
   ]
  },
  {
   "cell_type": "code",
   "execution_count": 164,
   "metadata": {},
   "outputs": [],
   "source": [
    "# Excluir coluna expecífica\n",
    "df.drop(columns = ['Total de Venda'], inplace = True)"
   ]
  },
  {
   "cell_type": "code",
   "execution_count": 165,
   "metadata": {},
   "outputs": [],
   "source": [
    "# Renomenado coluna específica\n",
    "df.rename(columns = {'Total_Calculado':'Total de Vendas'}, inplace = True)"
   ]
  },
  {
   "cell_type": "code",
   "execution_count": 166,
   "metadata": {},
   "outputs": [
    {
     "data": {
      "text/html": [
       "<div>\n",
       "<style scoped>\n",
       "    .dataframe tbody tr th:only-of-type {\n",
       "        vertical-align: middle;\n",
       "    }\n",
       "\n",
       "    .dataframe tbody tr th {\n",
       "        vertical-align: top;\n",
       "    }\n",
       "\n",
       "    .dataframe thead th {\n",
       "        text-align: right;\n",
       "    }\n",
       "</style>\n",
       "<table border=\"1\" class=\"dataframe\">\n",
       "  <thead>\n",
       "    <tr style=\"text-align: right;\">\n",
       "      <th></th>\n",
       "      <th>ID da Venda</th>\n",
       "      <th>CPF</th>\n",
       "      <th>Data da Venda</th>\n",
       "      <th>Quantidade</th>\n",
       "      <th>Preço Unitário</th>\n",
       "      <th>Total de Vendas</th>\n",
       "    </tr>\n",
       "  </thead>\n",
       "  <tbody>\n",
       "    <tr>\n",
       "      <th>0</th>\n",
       "      <td>1</td>\n",
       "      <td>572.833.820-89</td>\n",
       "      <td>2023-02-12 00:00:00</td>\n",
       "      <td>5.0</td>\n",
       "      <td>20</td>\n",
       "      <td>100.0</td>\n",
       "    </tr>\n",
       "  </tbody>\n",
       "</table>\n",
       "</div>"
      ],
      "text/plain": [
       "   ID da Venda             CPF        Data da Venda  Quantidade  \\\n",
       "0            1  572.833.820-89  2023-02-12 00:00:00         5.0   \n",
       "\n",
       "   Preço Unitário  Total de Vendas  \n",
       "0              20            100.0  "
      ]
     },
     "execution_count": 166,
     "metadata": {},
     "output_type": "execute_result"
    }
   ],
   "source": [
    "# Organizando as colunas\n",
    "df = df[['ID da Venda','CPF', 'Data da Venda', 'Quantidade', 'Preço Unitário', 'Total de Vendas'\n",
    "       ]]\n",
    "df.head(1)"
   ]
  },
  {
   "cell_type": "code",
   "execution_count": 167,
   "metadata": {},
   "outputs": [
    {
     "name": "stdout",
     "output_type": "stream",
     "text": [
      "                   Data  Frequência\n",
      "0   2023-02-12 00:00:00           1\n",
      "1            32/13/2023           1\n",
      "2   2024-09-05 00:00:00           1\n",
      "3   2023-04-15 00:00:00           1\n",
      "4   2923-07-18 00:00:00           1\n",
      "5   2023-11-25 00:00:00           1\n",
      "6   2023-09-30 00:00:00           1\n",
      "7   2023-11-11 00:00:00           1\n",
      "8   2023-05-04 00:00:00           1\n",
      "9   2024-02-05 00:00:00           1\n",
      "10           33/13/2023           1\n",
      "11  2024-04-20 00:00:00           1\n",
      "12  2024-05-21 00:00:00           1\n",
      "13  2024-11-05 00:00:00           1\n",
      "14  2024-11-07 00:00:00           1\n",
      "15  2024-11-08 00:00:00           1\n"
     ]
    }
   ],
   "source": [
    "# Verificar a frequência de data\n",
    "valores_frequencia = df['Data da Venda'].value_counts().reset_index()\n",
    "valores_frequencia.columns = ['Data', 'Frequência']\n",
    "print(valores_frequencia)"
   ]
  },
  {
   "cell_type": "code",
   "execution_count": 168,
   "metadata": {},
   "outputs": [],
   "source": [
    "# Usando pd.to_datetime para converter strings em datas\n",
    "# O errors='coerce' vai converter datas inválidas para NaT (Not a Time)\n",
    "df['Data da Venda'] = pd.to_datetime(df['Data da Venda'], errors='coerce')"
   ]
  },
  {
   "cell_type": "code",
   "execution_count": 169,
   "metadata": {},
   "outputs": [],
   "source": [
    "# Excluindo as linhas onde as datas são NaT\n",
    "df = df.dropna(subset=['Data da Venda'])"
   ]
  },
  {
   "cell_type": "code",
   "execution_count": 170,
   "metadata": {},
   "outputs": [
    {
     "data": {
      "text/plain": [
       "0    12/02/2023\n",
       "2    05/09/2024\n",
       "Name: Data da Venda, dtype: object"
      ]
     },
     "execution_count": 170,
     "metadata": {},
     "output_type": "execute_result"
    }
   ],
   "source": [
    "# Formatando a data no formato 'dd/mm/aaaa'\n",
    "df['Data da Venda'] = df['Data da Venda'].dt.strftime('%d/%m/%Y')\n",
    "\n",
    "# Exibir \n",
    "df['Data da Venda'].head(2)"
   ]
  },
  {
   "cell_type": "code",
   "execution_count": 172,
   "metadata": {},
   "outputs": [
    {
     "data": {
      "text/html": [
       "<div>\n",
       "<style scoped>\n",
       "    .dataframe tbody tr th:only-of-type {\n",
       "        vertical-align: middle;\n",
       "    }\n",
       "\n",
       "    .dataframe tbody tr th {\n",
       "        vertical-align: top;\n",
       "    }\n",
       "\n",
       "    .dataframe thead th {\n",
       "        text-align: right;\n",
       "    }\n",
       "</style>\n",
       "<table border=\"1\" class=\"dataframe\">\n",
       "  <thead>\n",
       "    <tr style=\"text-align: right;\">\n",
       "      <th></th>\n",
       "      <th>ID da Venda</th>\n",
       "      <th>CPF</th>\n",
       "      <th>Data da Venda</th>\n",
       "      <th>Quantidade</th>\n",
       "      <th>Preço Unitário</th>\n",
       "      <th>Total de Vendas</th>\n",
       "    </tr>\n",
       "  </thead>\n",
       "  <tbody>\n",
       "    <tr>\n",
       "      <th>0</th>\n",
       "      <td>1</td>\n",
       "      <td>572.833.820-89</td>\n",
       "      <td>12/02/2023</td>\n",
       "      <td>5.0</td>\n",
       "      <td>20</td>\n",
       "      <td>100.0</td>\n",
       "    </tr>\n",
       "    <tr>\n",
       "      <th>2</th>\n",
       "      <td>3</td>\n",
       "      <td>213.124.600-59</td>\n",
       "      <td>05/09/2024</td>\n",
       "      <td>2.0</td>\n",
       "      <td>25</td>\n",
       "      <td>50.0</td>\n",
       "    </tr>\n",
       "    <tr>\n",
       "      <th>4</th>\n",
       "      <td>5</td>\n",
       "      <td>554.270.590-16</td>\n",
       "      <td>15/04/2023</td>\n",
       "      <td>10.0</td>\n",
       "      <td>30</td>\n",
       "      <td>300.0</td>\n",
       "    </tr>\n",
       "    <tr>\n",
       "      <th>6</th>\n",
       "      <td>7</td>\n",
       "      <td>799.857.930-72</td>\n",
       "      <td>25/11/2023</td>\n",
       "      <td>4.0</td>\n",
       "      <td>500</td>\n",
       "      <td>2000.0</td>\n",
       "    </tr>\n",
       "    <tr>\n",
       "      <th>7</th>\n",
       "      <td>8</td>\n",
       "      <td>746.388.180-64</td>\n",
       "      <td>30/09/2023</td>\n",
       "      <td>6.0</td>\n",
       "      <td>10</td>\n",
       "      <td>60.0</td>\n",
       "    </tr>\n",
       "    <tr>\n",
       "      <th>9</th>\n",
       "      <td>10</td>\n",
       "      <td>733.204.400-55</td>\n",
       "      <td>11/11/2023</td>\n",
       "      <td>8.0</td>\n",
       "      <td>22</td>\n",
       "      <td>176.0</td>\n",
       "    </tr>\n",
       "    <tr>\n",
       "      <th>11</th>\n",
       "      <td>12</td>\n",
       "      <td>075.400.780-49</td>\n",
       "      <td>04/05/2023</td>\n",
       "      <td>2.0</td>\n",
       "      <td>28</td>\n",
       "      <td>56.0</td>\n",
       "    </tr>\n",
       "    <tr>\n",
       "      <th>12</th>\n",
       "      <td>13</td>\n",
       "      <td>444.953.680-01</td>\n",
       "      <td>05/02/2024</td>\n",
       "      <td>7.0</td>\n",
       "      <td>8</td>\n",
       "      <td>56.0</td>\n",
       "    </tr>\n",
       "    <tr>\n",
       "      <th>14</th>\n",
       "      <td>15</td>\n",
       "      <td>298.690.610-95</td>\n",
       "      <td>20/04/2024</td>\n",
       "      <td>0.0</td>\n",
       "      <td>21</td>\n",
       "      <td>0.0</td>\n",
       "    </tr>\n",
       "    <tr>\n",
       "      <th>15</th>\n",
       "      <td>16</td>\n",
       "      <td>709.972.620-01</td>\n",
       "      <td>21/05/2024</td>\n",
       "      <td>8.0</td>\n",
       "      <td>23</td>\n",
       "      <td>184.0</td>\n",
       "    </tr>\n",
       "    <tr>\n",
       "      <th>16</th>\n",
       "      <td>17</td>\n",
       "      <td>171.504.970-55</td>\n",
       "      <td>05/11/2024</td>\n",
       "      <td>4.0</td>\n",
       "      <td>30</td>\n",
       "      <td>120.0</td>\n",
       "    </tr>\n",
       "    <tr>\n",
       "      <th>18</th>\n",
       "      <td>19</td>\n",
       "      <td>565.394.420-33</td>\n",
       "      <td>07/11/2024</td>\n",
       "      <td>3.0</td>\n",
       "      <td>12</td>\n",
       "      <td>36.0</td>\n",
       "    </tr>\n",
       "    <tr>\n",
       "      <th>19</th>\n",
       "      <td>20</td>\n",
       "      <td>541.803.640-85</td>\n",
       "      <td>08/11/2024</td>\n",
       "      <td>2.0</td>\n",
       "      <td>31</td>\n",
       "      <td>62.0</td>\n",
       "    </tr>\n",
       "  </tbody>\n",
       "</table>\n",
       "</div>"
      ],
      "text/plain": [
       "    ID da Venda             CPF Data da Venda  Quantidade  Preço Unitário  \\\n",
       "0             1  572.833.820-89    12/02/2023         5.0              20   \n",
       "2             3  213.124.600-59    05/09/2024         2.0              25   \n",
       "4             5  554.270.590-16    15/04/2023        10.0              30   \n",
       "6             7  799.857.930-72    25/11/2023         4.0             500   \n",
       "7             8  746.388.180-64    30/09/2023         6.0              10   \n",
       "9            10  733.204.400-55    11/11/2023         8.0              22   \n",
       "11           12  075.400.780-49    04/05/2023         2.0              28   \n",
       "12           13  444.953.680-01    05/02/2024         7.0               8   \n",
       "14           15  298.690.610-95    20/04/2024         0.0              21   \n",
       "15           16  709.972.620-01    21/05/2024         8.0              23   \n",
       "16           17  171.504.970-55    05/11/2024         4.0              30   \n",
       "18           19  565.394.420-33    07/11/2024         3.0              12   \n",
       "19           20  541.803.640-85    08/11/2024         2.0              31   \n",
       "\n",
       "    Total de Vendas  \n",
       "0             100.0  \n",
       "2              50.0  \n",
       "4             300.0  \n",
       "6            2000.0  \n",
       "7              60.0  \n",
       "9             176.0  \n",
       "11             56.0  \n",
       "12             56.0  \n",
       "14              0.0  \n",
       "15            184.0  \n",
       "16            120.0  \n",
       "18             36.0  \n",
       "19             62.0  "
      ]
     },
     "execution_count": 172,
     "metadata": {},
     "output_type": "execute_result"
    }
   ],
   "source": [
    "df"
   ]
  },
  {
   "cell_type": "code",
   "execution_count": 171,
   "metadata": {},
   "outputs": [],
   "source": [
    "# Salvar o DataFrame atualizado em um arquivo Excel\n",
    "df.to_excel('dados_atualizados.xlsx', index=False)"
   ]
  }
 ],
 "metadata": {
  "kernelspec": {
   "display_name": "Python 3",
   "language": "python",
   "name": "python3"
  },
  "language_info": {
   "codemirror_mode": {
    "name": "ipython",
    "version": 3
   },
   "file_extension": ".py",
   "mimetype": "text/x-python",
   "name": "python",
   "nbconvert_exporter": "python",
   "pygments_lexer": "ipython3",
   "version": "3.12.2"
  }
 },
 "nbformat": 4,
 "nbformat_minor": 2
}
